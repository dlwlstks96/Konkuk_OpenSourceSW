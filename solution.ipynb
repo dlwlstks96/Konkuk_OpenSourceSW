{
 "cells": [
  {
   "cell_type": "code",
   "execution_count": 14,
   "metadata": {},
   "outputs": [
    {
     "name": "stdout",
     "output_type": "stream",
     "text": [
      "(1, 2)\n",
      "(3, 4)\n",
      "(4, 6)\n"
     ]
    }
   ],
   "source": [
    "class Point:\n",
    "    \n",
    "    def __init__(self, x, y):\n",
    "        self.x = x\n",
    "        self.y = y\n",
    "        \n",
    "    def show(self):\n",
    "        print('({0}, {1})'.format(self.x, self.y))\n",
    "        \n",
    "    def __add__(self, b):\n",
    "        self.x += b.x\n",
    "        self.y += b.y\n",
    "        return self\n",
    "        \n",
    "    \n",
    "a = Point(1,2)\n",
    "a.show()\n",
    "\n",
    "b = Point(3,4)\n",
    "b.show()\n",
    "\n",
    "a = a + b\n",
    "a.show()"
   ]
  },
  {
   "cell_type": "code",
   "execution_count": 75,
   "metadata": {},
   "outputs": [
    {
     "name": "stdout",
     "output_type": "stream",
     "text": [
      "Max Week = 2021-05-08 ~ 2021-05-14\n",
      "Min Week = 2021-05-15 ~ 2021-05-21\n"
     ]
    }
   ],
   "source": [
    "import csv\n",
    "f = open('seoul.csv', 'r', encoding='cp949')\n",
    "data = csv.reader(f)\n",
    "header = next(data)\n",
    "\n",
    "result = []\n",
    "count = 0\n",
    "tmp2 = 0\n",
    "\n",
    "for row in data:\n",
    "    row[-1] = float(row[-1])\n",
    "    row[-2] = float(row[-2])\n",
    "    tmp = row[-1] - row[-2]\n",
    "    tmp2 += tmp\n",
    "    count += 1\n",
    "    if count == 7:\n",
    "        result.append(tmp2)\n",
    "        tmp2 = 0\n",
    "        count = 0\n",
    "\n",
    "minWeek = 0\n",
    "\n",
    "for i in range(0,4):\n",
    "    if result[i] < result[minWeek]:\n",
    "        minWeek = i\n",
    "\n",
    "maxWeek = 0\n",
    "for i in range(0,4):\n",
    "        if result[i] > result[maxWeek]:\n",
    "            maxWeek = i\n",
    "\n",
    "f = open('seoul.csv', 'r', encoding='cp949')\n",
    "data = csv.reader(f)\n",
    "header = next(data)\n",
    "\n",
    "count = 0\n",
    "\n",
    "maxStr = ''\n",
    "minStr = ''\n",
    "for row in data:\n",
    "    if count == maxWeek*7:\n",
    "        maxStr += row[0]\n",
    "    if count == (maxWeek+1)*7-1:\n",
    "        maxStr += ' ~ '\n",
    "        maxStr += row[0]\n",
    "        print('Max Week = {0}'.format(maxStr))\n",
    "    \n",
    "    if count == minWeek*7:\n",
    "        minStr += row[0]\n",
    "    if count == (minWeek+1)*7-1:\n",
    "        minStr += ' ~ '\n",
    "        minStr += row[0]\n",
    "        print('Min Week = {0}'.format(minStr))\n",
    "    count+=1"
   ]
  },
  {
   "cell_type": "code",
   "execution_count": 74,
   "metadata": {},
   "outputs": [
    {
     "name": "stdout",
     "output_type": "stream",
     "text": [
      "[2 3 2]\n",
      "11.0\n",
      "3.0\n",
      "[0.06060606 0.09090909 0.06060606]\n"
     ]
    },
    {
     "data": {
      "image/png": "[encoded data removed]",
      "text/plain": [
       "<Figure size 432x288 with 1 Axes>"
      ]
     },
     "metadata": {
      "needs_background": "light"
     },
     "output_type": "display_data"
    }
   ],
   "source": [
    "import numpy as np\n",
    "import matplotlib.pyplot as plt\n",
    "\n",
    "docs = np.array([[1,1,0,1,0,1],[1,1,1,0,1,0],[1,1,0,1,0,0]])\n",
    "\n",
    "query = np.array([1,1,0,0,1,0])\n",
    "\n",
    "np.dot(docs, query.transpose())\n",
    "print(res)\n",
    "\n",
    "tmp = 0\n",
    "tmp2 = 0\n",
    "\n",
    "for i in range(0,3):\n",
    "    for j in range(0,6):\n",
    "        if docs [i][j] != 0:\n",
    "            tmp += np.sqrt(docs[i][j] * docs[i][j])\n",
    "\n",
    "for i in range(0,6):\n",
    "    if query[i] != 0:\n",
    "        tmp2 += np.sqrt(query[i] * query[i])\n",
    "    \n",
    "print(tmp)\n",
    "print(tmp2)\n",
    "\n",
    "cos = (np.dot(docs, query.transpose()))/(tmp*tmp2)\n",
    "print(cos)\n",
    "a = 'doc1 = 0.58'\n",
    "b = 'doc2 = 0.87'\n",
    "c = 'doc3 = 0.67'\n",
    "l = []\n",
    "l.append(a)\n",
    "l.append(b)\n",
    "l.append(c)\n",
    "plt.title('Cosine similarities')\n",
    "plt.bar(l,cos)\n",
    "plt.show()"
   ]
  },
  {
   "cell_type": "code",
   "execution_count": null,
   "metadata": {},
   "outputs": [],
   "source": []
  }
 ],
 "metadata": {
  "kernelspec": {
   "display_name": "Python 3",
   "language": "python",
   "name": "python3"
  },
  "language_info": {
   "codemirror_mode": {
    "name": "ipython",
    "version": 3
   },
   "file_extension": ".py",
   "mimetype": "text/x-python",
   "name": "python",
   "nbconvert_exporter": "python",
   "pygments_lexer": "ipython3",
   "version": "3.8.5"
  }
 },
 "nbformat": 4,
 "nbformat_minor": 4
}
