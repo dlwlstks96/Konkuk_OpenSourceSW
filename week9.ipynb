{
 "cells": [
  {
   "cell_type": "code",
   "execution_count": 7,
   "id": "658c96e2",
   "metadata": {},
   "outputs": [
    {
     "name": "stdout",
     "output_type": "stream",
     "text": [
      "x값을 입력하시오.1\n",
      "11\n"
     ]
    }
   ],
   "source": [
    "x = int(input(\"x값을 입력하시오.\"))\n",
    "y = (3*x*x) + (5*x) + 3\n",
    "print(y)"
   ]
  },
  {
   "cell_type": "code",
   "execution_count": 10,
   "id": "bdd89eca",
   "metadata": {},
   "outputs": [
    {
     "name": "stdout",
     "output_type": "stream",
     "text": [
      "반지름 값을 입력하시오.5\n",
      "원의 둘레 : 31.400000000000002\n",
      "원의 넓이 : 78.5\n"
     ]
    }
   ],
   "source": [
    "x = int(input(\"반지름 값을 입력하시오.\"))\n",
    "round = 2*3.14*x\n",
    "area = 3.14*x*x\n",
    "\n",
    "print(\"원의 둘레 : \"+str(round))\n",
    "print(\"원의 넓이 : \"+str(area))"
   ]
  },
  {
   "cell_type": "code",
   "execution_count": null,
   "id": "6360c993",
   "metadata": {},
   "outputs": [],
   "source": []
  }
 ],
 "metadata": {
  "kernelspec": {
   "display_name": "Python 3",
   "language": "python",
   "name": "python3"
  },
  "language_info": {
   "codemirror_mode": {
    "name": "ipython",
    "version": 3
   },
   "file_extension": ".py",
   "mimetype": "text/x-python",
   "name": "python",
   "nbconvert_exporter": "python",
   "pygments_lexer": "ipython3",
   "version": "3.9.5"
  }
 },
 "nbformat": 4,
 "nbformat_minor": 5
}
