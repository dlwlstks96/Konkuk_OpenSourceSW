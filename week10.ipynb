{
 "cells": [
  {
   "cell_type": "code",
   "execution_count": 4,
   "id": "82c6f8ef",
   "metadata": {},
   "outputs": [
    {
     "name": "stdout",
     "output_type": "stream",
     "text": [
      "Numbers? 10 456 87 78\n",
      "Max =  456\n"
     ]
    }
   ],
   "source": [
    "nums = input(\"Numbers? \")\n",
    "nums = nums.strip()\n",
    "str = nums.split(\" \")\n",
    "arr = str[:]\n",
    "arr = [int (i) for i in arr]\n",
    "print('Max = ',max(arr))"
   ]
  },
  {
   "cell_type": "code",
   "execution_count": 1,
   "id": "7b91142a",
   "metadata": {},
   "outputs": [
    {
     "name": "stdout",
     "output_type": "stream",
     "text": [
      "strings? hi my name is jinsan\n",
      "암호화 -> kjotbo jt obnf nz ij\n",
      "복호화 -> hi my name is jinsan\n"
     ]
    }
   ],
   "source": [
    "inp = input(\"strings? \")\n",
    "\n",
    "#암호화\n",
    "\n",
    "inp = inp.strip()\n",
    "inp = inp.split(\" \")\n",
    "inp = inp[::-1]\n",
    "arr = \"\"\n",
    "tmp = []\n",
    "\n",
    "for ch in inp:\n",
    "    for i in ch:\n",
    "        code = ord(i) + 1\n",
    "        tmp += chr(code)\n",
    "    arr += \" \"+\"\".join(tmp)\n",
    "    tmp = []\n",
    "    \n",
    "encryption = arr.strip()\n",
    "print(\"암호화 ->\",encryption)\n",
    "\n",
    "#복호화\n",
    "\n",
    "inp = encryption.strip()\n",
    "inp = inp.split(\" \")\n",
    "inp = inp[::-1]\n",
    "arr = \"\"\n",
    "\n",
    "for ch in inp:\n",
    "    for i in ch:\n",
    "        code = ord(i) - 1\n",
    "        tmp += chr(code)\n",
    "    arr += \" \"+\"\".join(tmp)\n",
    "    tmp = []\n",
    "    \n",
    "decrytion = arr.strip()\n",
    "print(\"복호화 ->\",decrytion)"
   ]
  },
  {
   "cell_type": "code",
   "execution_count": 2,
   "id": "1ffd4375",
   "metadata": {},
   "outputs": [
    {
     "name": "stdout",
     "output_type": "stream",
     "text": [
      "name and number? a 1\n",
      "name and number? b 2\n",
      "name and number? c 3\n",
      "name and number? d 4\n",
      "name and number? e 5\n",
      "name and number? f 6\n",
      "name and number? g 7\n",
      "name and number? h 8\n",
      "name and number? i 9\n",
      "name and number? j 10\n",
      "1) search tleNum 2) search name 3) exit 1\n",
      "name? e\n",
      "e num : 5\n",
      "1) search tleNum 2) search name 3) exit 2\n",
      "telNum? 4\n",
      "4 name : d\n",
      "1) search tleNum 2) search name 3) exit 3\n"
     ]
    }
   ],
   "source": [
    "#이름과 전화 번호 입력 받기, 10번 반복\n",
    "dic = dict()\n",
    "for i in range(0,10):\n",
    "    inp = input(\"name and number? \")\n",
    "    inp = inp.split(\" \")\n",
    "    dic[inp[0]] = inp[1]\n",
    "\n",
    "menu = True\n",
    "\n",
    "#메뉴 실행\n",
    "while(menu):\n",
    "    selMenu = int(input(\"1) search tleNum 2) search name 3) exit \"))\n",
    "    #이름으로 번호 검색\n",
    "    if(selMenu == 1):\n",
    "        tmp = input(\"name? \")\n",
    "        print(tmp,'num :',dic[tmp])\n",
    "    elif(selMenu == 2):\n",
    "        #딕셔너리 key, value 쌍 뒤집어 번호로 이름 검색\n",
    "        tmp = input(\"telNum? \")\n",
    "        dic2 = {v:k for k,v in dic.items()}\n",
    "        print(tmp,'name :',dic2[tmp])\n",
    "    else:\n",
    "        menu = False\n",
    "        break"
   ]
  },
  {
   "cell_type": "code",
   "execution_count": null,
   "id": "0f2d1613",
   "metadata": {},
   "outputs": [],
   "source": []
  }
 ],
 "metadata": {
  "kernelspec": {
   "display_name": "Python 3",
   "language": "python",
   "name": "python3"
  },
  "language_info": {
   "codemirror_mode": {
    "name": "ipython",
    "version": 3
   },
   "file_extension": ".py",
   "mimetype": "text/x-python",
   "name": "python",
   "nbconvert_exporter": "python",
   "pygments_lexer": "ipython3",
   "version": "3.9.5"
  }
 },
 "nbformat": 4,
 "nbformat_minor": 5
}
